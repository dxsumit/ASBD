{
 "cells": [
  {
   "cell_type": "markdown",
   "id": "dbbb586e",
   "metadata": {},
   "source": [
    "## ASBD Lab - 1"
   ]
  },
  {
   "cell_type": "code",
   "execution_count": 64,
   "id": "91048721",
   "metadata": {},
   "outputs": [],
   "source": [
    "import numpy as np\n",
    "from scipy import stats as st\n",
    "import random \n",
    "from tabulate import tabulate\n",
    "import matplotlib.pyplot as plt\n",
    "from matplotlib import colors\n",
    "\n",
    "random.seed(10)"
   ]
  },
  {
   "cell_type": "markdown",
   "id": "2e975f3a",
   "metadata": {},
   "source": [
    "## Question 1\n",
    "###### Given the following setup {Class, Tally score, Frequency}, develop an application that generates the table shown; (you can populate the relevant data; minimum data size :50 records). The table is only an illustration for a data of color scores, you are free to test the application over any data set with the application generating the tally and frequency scores."
   ]
  },
  {
   "cell_type": "code",
   "execution_count": 53,
   "id": "032d2aac",
   "metadata": {},
   "outputs": [
    {
     "name": "stdout",
     "output_type": "stream",
     "text": [
      "╒════╤══════════════════════════════════════╤═════════════╕\n",
      "│    │ Tally                                │   Frequency │\n",
      "╞════╪══════════════════════════════════════╪═════════════╡\n",
      "│  0 │ ||||/||||/||||/||||/||||/||||/||||/| │          36 │\n",
      "├────┼──────────────────────────────────────┼─────────────┤\n",
      "│  1 │ ||                                   │           2 │\n",
      "├────┼──────────────────────────────────────┼─────────────┤\n",
      "│  2 │ ||||/||||/||||/||||/||||/||          │          27 │\n",
      "├────┼──────────────────────────────────────┼─────────────┤\n",
      "│  3 │ ||||/||||/||||/||||/||||/||||/       │          30 │\n",
      "├────┼──────────────────────────────────────┼─────────────┤\n",
      "│  4 │ ||||/||||/||||/||||/||||/||||/||||/| │          36 │\n",
      "├────┼──────────────────────────────────────┼─────────────┤\n",
      "│  5 │                                      │           0 │\n",
      "├────┼──────────────────────────────────────┼─────────────┤\n",
      "│  6 │ ||||/||||/|||                        │          13 │\n",
      "├────┼──────────────────────────────────────┼─────────────┤\n",
      "│  7 │ ||||/||||/||||/||||/||||/||||        │          29 │\n",
      "├────┼──────────────────────────────────────┼─────────────┤\n",
      "│  8 │ ||||/||||/||||/||||/||||/||||/|      │          31 │\n",
      "├────┼──────────────────────────────────────┼─────────────┤\n",
      "│  9 │ ||||/||||/||||/||                    │          17 │\n",
      "╘════╧══════════════════════════════════════╧═════════════╛\n"
     ]
    }
   ],
   "source": [
    "\n",
    "tallyDict = {\n",
    "    1: \"|\",\n",
    "    2: \"||\",\n",
    "    3: \"|||\",\n",
    "    4: \"||||\",\n",
    "    5: \"||||/\",\n",
    "}\n",
    "\n",
    "\n",
    "result = []\n",
    "for i in range(10):\n",
    "    finalString = \"\"\n",
    "    number = random.randint(0,50)\n",
    "    countFive = number//5\n",
    "    countRemaining = number%5\n",
    "    \n",
    "    if(countFive):\n",
    "        finalString = tallyDict[5]*countFive\n",
    "    if(countRemaining):\n",
    "        finalString = finalString + tallyDict[countRemaining]\n",
    "        \n",
    "    result.append([finalString, number])\n",
    "    \n",
    "\n",
    "head = [\"Tally\", \"Frequency\"]\n",
    "print(tabulate(result, headers=head, tablefmt='fancy_grid', showindex=True))\n"
   ]
  },
  {
   "cell_type": "markdown",
   "id": "a138b02a",
   "metadata": {},
   "source": [
    "## Question 2\n",
    "###### In a class of 18 students, assume marks distribution in an exam are as follows. Let the roll numbers start with CSE20D01 and all the odd roll numbers secure marks as follows: 25+((i+7)%10) and even roll numbers : 25+((i+8)%10). Develop an application that sets up the data and calculate the mean and median for the marks obtained using the platform support."
   ]
  },
  {
   "cell_type": "code",
   "execution_count": 54,
   "id": "2deb717c",
   "metadata": {},
   "outputs": [
    {
     "name": "stdout",
     "output_type": "stream",
     "text": [
      "╒════╤═══════════╤═════════╕\n",
      "│    │ Student   │   Marks │\n",
      "╞════╪═══════════╪═════════╡\n",
      "│  0 │ CSE20D01  │ 33      │\n",
      "├────┼───────────┼─────────┤\n",
      "│  1 │ CSE20D02  │ 25      │\n",
      "├────┼───────────┼─────────┤\n",
      "│  2 │ CSE20D03  │ 25      │\n",
      "├────┼───────────┼─────────┤\n",
      "│  3 │ CSE20D04  │ 27      │\n",
      "├────┼───────────┼─────────┤\n",
      "│  4 │ CSE20D05  │ 27      │\n",
      "├────┼───────────┼─────────┤\n",
      "│  5 │ CSE20D06  │ 29      │\n",
      "├────┼───────────┼─────────┤\n",
      "│  6 │ CSE20D07  │ 29      │\n",
      "├────┼───────────┼─────────┤\n",
      "│  7 │ CSE20D08  │ 31      │\n",
      "├────┼───────────┼─────────┤\n",
      "│  8 │ CSE20D09  │ 31      │\n",
      "├────┼───────────┼─────────┤\n",
      "│  9 │ CSE20D010 │ 33      │\n",
      "├────┼───────────┼─────────┤\n",
      "│ 10 │ CSE20D011 │ 33      │\n",
      "├────┼───────────┼─────────┤\n",
      "│ 11 │ CSE20D012 │ 25      │\n",
      "├────┼───────────┼─────────┤\n",
      "│ 12 │ CSE20D013 │ 25      │\n",
      "├────┼───────────┼─────────┤\n",
      "│ 13 │ CSE20D014 │ 27      │\n",
      "├────┼───────────┼─────────┤\n",
      "│ 14 │ CSE20D015 │ 27      │\n",
      "├────┼───────────┼─────────┤\n",
      "│ 15 │ CSE20D016 │ 29      │\n",
      "├────┼───────────┼─────────┤\n",
      "│ 16 │ CSE20D017 │ 29      │\n",
      "├────┼───────────┼─────────┤\n",
      "│ 17 │ CSE20D018 │ 31      │\n",
      "├────┼───────────┼─────────┤\n",
      "│ 18 │ Mean      │ 28.6667 │\n",
      "├────┼───────────┼─────────┤\n",
      "│ 19 │ Median    │ 29      │\n",
      "╘════╧═══════════╧═════════╛\n"
     ]
    }
   ],
   "source": [
    "\n",
    "\n",
    "rollnumString = \"CSE20D0\"\n",
    "resultTable = []\n",
    "marksList = []\n",
    "# generate 18 roll numbers and their marks\n",
    "for i in range(1,19):\n",
    "    newStudent = rollnumString + str(i)\n",
    "#     odd\n",
    "    if(i&1):\n",
    "        marks = 25+((i+7)%10)\n",
    "    else:  #even \n",
    "        marks = 25+((i+8)%10)\n",
    "        \n",
    "    resultTable.append([newStudent, marks])\n",
    "    marksList.append(marks)\n",
    "        \n",
    "\n",
    "\n",
    "resultTable.append([\"Mean\", np.mean(marksList)])\n",
    "resultTable.append([\"Median\", np.median(marksList)])\n",
    "\n",
    "head = [\"Student\", \"Marks\"]\n",
    "print(tabulate(resultTable, headers=head, tablefmt='fancy_grid', showindex=True))\n"
   ]
  },
  {
   "cell_type": "markdown",
   "id": "47695056",
   "metadata": {},
   "source": [
    "## Question 3\n",
    "###### For a sample space of 20 elements, the values are fitted to the line Y=2X+3, X>5. Develop an application that sets up the data and computes the standard deviation of this sample space. (use random number generator supported in your development platform to generate values of X)."
   ]
  },
  {
   "cell_type": "code",
   "execution_count": 55,
   "id": "247d5710",
   "metadata": {},
   "outputs": [
    {
     "name": "stdout",
     "output_type": "stream",
     "text": [
      "╒════╤════════════════════╤══════════╕\n",
      "│    │ X                  │        Y │\n",
      "╞════╪════════════════════╪══════════╡\n",
      "│  0 │ 173                │ 349      │\n",
      "├────┼────────────────────┼──────────┤\n",
      "│  1 │ 47                 │  97      │\n",
      "├────┼────────────────────┼──────────┤\n",
      "│  2 │ 14                 │  31      │\n",
      "├────┼────────────────────┼──────────┤\n",
      "│  3 │ 139                │ 281      │\n",
      "├────┼────────────────────┼──────────┤\n",
      "│  4 │ 131                │ 265      │\n",
      "├────┼────────────────────┼──────────┤\n",
      "│  5 │ 89                 │ 181      │\n",
      "├────┼────────────────────┼──────────┤\n",
      "│  6 │ 25                 │  53      │\n",
      "├────┼────────────────────┼──────────┤\n",
      "│  7 │ 69                 │ 141      │\n",
      "├────┼────────────────────┼──────────┤\n",
      "│  8 │ 196                │ 395      │\n",
      "├────┼────────────────────┼──────────┤\n",
      "│  9 │ 98                 │ 199      │\n",
      "├────┼────────────────────┼──────────┤\n",
      "│ 10 │ 17                 │  37      │\n",
      "├────┼────────────────────┼──────────┤\n",
      "│ 11 │ 113                │ 229      │\n",
      "├────┼────────────────────┼──────────┤\n",
      "│ 12 │ 41                 │  85      │\n",
      "├────┼────────────────────┼──────────┤\n",
      "│ 13 │ 160                │ 323      │\n",
      "├────┼────────────────────┼──────────┤\n",
      "│ 14 │ 96                 │ 195      │\n",
      "├────┼────────────────────┼──────────┤\n",
      "│ 15 │ 103                │ 209      │\n",
      "├────┼────────────────────┼──────────┤\n",
      "│ 16 │ 113                │ 229      │\n",
      "├────┼────────────────────┼──────────┤\n",
      "│ 17 │ 78                 │ 159      │\n",
      "├────┼────────────────────┼──────────┤\n",
      "│ 18 │ 178                │ 359      │\n",
      "├────┼────────────────────┼──────────┤\n",
      "│ 19 │ 73                 │ 149      │\n",
      "├────┼────────────────────┼──────────┤\n",
      "│ 20 │ Standard Deviation │  98.5298 │\n",
      "╘════╧════════════════════╧══════════╛\n"
     ]
    }
   ],
   "source": [
    "resultTable = []\n",
    "for i in range(20):\n",
    "    X = random.randint(6,200)\n",
    "    Y = 2*X+3\n",
    "    resultTable.append([X,Y])\n",
    "    \n",
    "    \n",
    "\n",
    "resultTable.append([\"Standard Deviation\",  np.std(resultTable, ddof=1)])\n",
    "    \n",
    "head = [\"X\", \"Y\"]\n",
    "print(tabulate(resultTable, headers=head, tablefmt='fancy_grid', showindex=True))"
   ]
  },
  {
   "cell_type": "markdown",
   "id": "af96c0b7",
   "metadata": {},
   "source": [
    "## Question 4\n",
    "###### For a given data of heights of a class, the heights of 15 students are recorded as 167.65, 167, 172, 175, 165, 167, 168, 167, 167.3, 170, 167.5, 170, 167, 169, and 172. Develop an application that computes; explore if there are any packages supported in your platform that depicts these measures / their calculations of central tendency in a visual form for ease of understanding.\n",
    "a. Mean height of the student\n",
    "b. Median and Mode of the sample space\n",
    "c. Standard deviation\n",
    "d. Measure of skewness. [(Mean-Mode)/standard deviation]"
   ]
  },
  {
   "cell_type": "code",
   "execution_count": 56,
   "id": "35307fa4",
   "metadata": {},
   "outputs": [
    {
     "name": "stdout",
     "output_type": "stream",
     "text": [
      "╒════╤═════════════════════╤════════════╕\n",
      "│    │ Measure             │      Value │\n",
      "╞════╪═════════════════════╪════════════╡\n",
      "│  0 │ Mean                │ 168.763    │\n",
      "├────┼─────────────────────┼────────────┤\n",
      "│  1 │ Median              │ 167.65     │\n",
      "├────┼─────────────────────┼────────────┤\n",
      "│  2 │ Mode                │ 167        │\n",
      "├────┼─────────────────────┼────────────┤\n",
      "│  3 │ Standard Deviation  │   2.60662  │\n",
      "├────┼─────────────────────┼────────────┤\n",
      "│  4 │ Measure of Skewness │   0.676483 │\n",
      "╘════╧═════════════════════╧════════════╛\n"
     ]
    },
    {
     "data": {
      "image/png": "[encoded data removed]",
      "text/plain": [
       "<Figure size 576x360 with 1 Axes>"
      ]
     },
     "metadata": {
      "needs_background": "light"
     },
     "output_type": "display_data"
    }
   ],
   "source": [
    "heights = [167.65, 167, 172, 175, 165, 167, 168, 167, 167.3, 170, 167.5, 170, 167, 169, 172]\n",
    "resultTable = []\n",
    "resultTable.append([\"Mean\", np.mean(heights)])\n",
    "resultTable.append([\"Median\", np.median(heights)])\n",
    "resultTable.append([\"Mode\", st.mode(heights)[0][0]])\n",
    "resultTable.append([\"Standard Deviation\",  np.std(heights, ddof=1)])\n",
    "resultTable.append([\"Measure of Skewness\",  ((np.mean(heights)-st.mode(heights)[0][0])/np.std(heights, ddof=1))])\n",
    "\n",
    "head = [\"Measure\", \"Value\"]\n",
    "print(tabulate(resultTable, headers=head, tablefmt='fancy_grid', showindex=True))\n",
    "\n",
    "\n",
    "plt.figure(figsize=(8,5))\n",
    "plt.boxplot(heights)\n",
    "plt.grid(axis ='y',alpha=0.4)\n",
    "plt.tick_params(left = False, bottom=False)\n",
    "plt.ylabel(\"Height\", fontsize=12)\n",
    "plt.title(\"Box-Plot\", fontsize=14)\n",
    "\n",
    "for spine in plt.gca().spines.values():\n",
    "    spine.set_visible(False)\n",
    "plt.show()"
   ]
  },
  {
   "cell_type": "markdown",
   "id": "ae95519c",
   "metadata": {},
   "source": [
    "## Question 5\n",
    "###### In Analytics and Systems of Bigdata course, for a class of 100 students, around 31 students secured ‘S’ grade, 29 secured ‘B’ grade, 25 ‘C’ grades, and rest of them secured ‘D’ grades. If the range of each grade is 15 marks. (S for 85 to 100 marks, A for 70 to 85 ...). Develop an application that represents the above data: using Pie and Bar graphs."
   ]
  },
  {
   "cell_type": "code",
   "execution_count": 58,
   "id": "64d50646",
   "metadata": {},
   "outputs": [
    {
     "data": {
      "image/png": "[encoded data removed]",
      "text/plain": [
       "<Figure size 720x504 with 1 Axes>"
      ]
     },
     "metadata": {},
     "output_type": "display_data"
    }
   ],
   "source": [
    "grades = ('S', 'A', 'B', 'C', 'D')\n",
    "student_count = (31, 0, 29, 25, 15)\n",
    "explodes = (0.025, 0.2, 0, 0, 0)\n",
    "colors = (\"limegreen\", \"c\", \"grey\", \"tomato\", \"red\")\n",
    "\n",
    "fig, ax = plt.subplots(figsize=(10,7))\n",
    "_, _, autotexts = ax.pie(student_count,\n",
    "     labels = grades,\n",
    "     explode = explodes,\n",
    "      shadow = True,\n",
    "      colors = colors,\n",
    "      startangle = 90,\n",
    "      autopct='%1.1f%%'\n",
    "     )\n",
    "\n",
    "for autotext in autotexts:\n",
    "    autotext.set_color('white')\n",
    "\n",
    "ax.legend(grades,\n",
    "         title=\"Grades\",\n",
    "         loc=\"center left\",\n",
    "         bbox_to_anchor=(1,0,0.5,1))\n",
    "\n",
    "ax.set_title(\"Grade PIE Chart\")\n",
    "plt.show()"
   ]
  },
  {
   "cell_type": "code",
   "execution_count": 59,
   "id": "5dfe73ff",
   "metadata": {},
   "outputs": [
    {
     "data": {
      "image/png": "[encoded data removed]",
      "text/plain": [
       "<Figure size 576x360 with 1 Axes>"
      ]
     },
     "metadata": {
      "needs_background": "light"
     },
     "output_type": "display_data"
    }
   ],
   "source": [
    "grades = ('S', 'A', 'B', 'C', 'D')\n",
    "student_count = (31, 0, 29, 25, 15)\n",
    "colors = (\"limegreen\", \"c\", \"grey\", \"tomato\", \"red\")\n",
    "\n",
    "fig, ax = plt.subplots(figsize=(8,5))\n",
    "\n",
    "ax.bar(grades,\n",
    "       student_count,\n",
    "       color=colors,\n",
    "       width=0.4\n",
    "     )\n",
    "\n",
    "ax.set_xlabel(\"Grades\")\n",
    "ax.set_ylabel(\"Students\")\n",
    "ax.set_title(\"Grade Bar Chart\")\n",
    "\n",
    "plt.grid(axis ='y',alpha=0.4)\n",
    "plt.tick_params(left = False, bottom=False)\n",
    "\n",
    "for spine in plt.gca().spines.values():\n",
    "    spine.set_visible(False)\n",
    "    \n",
    "plt.show()"
   ]
  },
  {
   "cell_type": "markdown",
   "id": "9d0ca905",
   "metadata": {},
   "source": [
    "# Question 6\n",
    "###### On a given day (average basis), a student is observed to spend 33% of time in studying, 30% in sleeping, 18% in playing, 5% for hobby activities, and rest for spending with friends and family. Plot a pie chart showing his daily activities."
   ]
  },
  {
   "cell_type": "code",
   "execution_count": 60,
   "id": "d4bbb804",
   "metadata": {},
   "outputs": [
    {
     "data": {
      "image/png": "[encoded data removed]",
      "text/plain": [
       "<Figure size 720x504 with 1 Axes>"
      ]
     },
     "metadata": {},
     "output_type": "display_data"
    }
   ],
   "source": [
    "activities = ('Study', 'Sleep', 'Playing', 'Hobby', 'others')\n",
    "time = (33, 30, 18, 5, 14)\n",
    "explodes = (0.035, 0.03, 0, 0.02, 0)\n",
    "colors = (\"limegreen\", \"c\", \"grey\", \"tomato\", \"red\")\n",
    "\n",
    "fig, ax = plt.subplots(figsize=(10,7))\n",
    "_, _, autotexts = ax.pie(time,\n",
    "     labels = activities,\n",
    "     explode = explodes,\n",
    "      shadow = True,\n",
    "      colors = colors,\n",
    "      startangle = 90,\n",
    "      autopct='%1.1f%%'\n",
    "     )\n",
    "\n",
    "for autotext in autotexts:\n",
    "    autotext.set_color('white')\n",
    "\n",
    "ax.legend(activities,\n",
    "         title=\"activities\",\n",
    "         loc=\"lower left\",\n",
    "         bbox_to_anchor=(1,0,0.5,1))\n",
    "\n",
    "ax.set_title(\"Daily Activity Chart\")\n",
    "plt.show()"
   ]
  },
  {
   "cell_type": "markdown",
   "id": "eab9750e",
   "metadata": {},
   "source": [
    "# Question 7\n",
    "###### Develop an application (absolute grader) that accepts marks scored by 20 students in ASBD course (as a split up of three: Mid Sem (30), End Sem (50) and Assignments(20). Compute the total and use it to grade the students following absolute grading: >=90 – S ; >=80 – A and so on till D. Compute the Class average for total marks in the course and 50% of class average would be fixed as the cut off for E. Generate a frequency table for the grades as well (Table displaying the grades and counts of them)."
   ]
  },
  {
   "cell_type": "code",
   "execution_count": 61,
   "id": "5d9ca040",
   "metadata": {},
   "outputs": [
    {
     "name": "stdout",
     "output_type": "stream",
     "text": [
      "╒════╤═══════════╤═════════════════╕\n",
      "│    │ Grade     │   Student Count │\n",
      "╞════╪═══════════╪═════════════════╡\n",
      "│  0 │ S         │            2    │\n",
      "├────┼───────────┼─────────────────┤\n",
      "│  1 │ A         │            2    │\n",
      "├────┼───────────┼─────────────────┤\n",
      "│  2 │ B         │            6    │\n",
      "├────┼───────────┼─────────────────┤\n",
      "│  3 │ C         │            4    │\n",
      "├────┼───────────┼─────────────────┤\n",
      "│  4 │ D         │            0    │\n",
      "├────┼───────────┼─────────────────┤\n",
      "│  5 │ E         │            3    │\n",
      "├────┼───────────┼─────────────────┤\n",
      "│  6 │ F         │            3    │\n",
      "├────┼───────────┼─────────────────┤\n",
      "│  7 │ Class Avg │           64.65 │\n",
      "╘════╧═══════════╧═════════════════╛\n"
     ]
    }
   ],
   "source": [
    "student_list = [\n",
    "    [\"CSE20B001\",20],\n",
    "    [\"CSE20B002\",30],\n",
    "    [\"CSE20B003\",40],\n",
    "    [\"CSE20B004\",78],\n",
    "    [\"CSE20B005\",70],\n",
    "    [\"CSE20B006\",65],\n",
    "    [\"CSE20B007\",65],\n",
    "    [\"CSE20B008\",88],\n",
    "    [\"CSE20B009\",87],\n",
    "    [\"CSE20B010\",78],\n",
    "    [\"CSE20B011\",76],\n",
    "    [\"CSE20B012\",68],\n",
    "    [\"CSE20B013\",45],\n",
    "    [\"CSE20B014\",69],\n",
    "    [\"CSE20B015\",93],\n",
    "    [\"CSE20B016\",23],\n",
    "    [\"CSE20B017\",45],\n",
    "    [\"CSE20B018\",78],\n",
    "    [\"CSE20B019\",97],\n",
    "    [\"CSE20B020\",78]]\n",
    "\n",
    "\n",
    "class_avg = 0;\n",
    "for each in student_list:\n",
    "    class_avg += each[1]\n",
    "    \n",
    "class_avg = class_avg/20\n",
    "E_limit = class_avg*0.5\n",
    "\n",
    "\n",
    "grade_dict = {\n",
    "    'S': 0,\n",
    "    'A': 0,\n",
    "    'B': 0,\n",
    "    'C': 0,\n",
    "    'D': 0,\n",
    "    'E': 0,\n",
    "    'F': 0\n",
    "}\n",
    "\n",
    "for each in student_list:\n",
    "    if(each[1] >= 90):\n",
    "        grade_dict['S'] += 1\n",
    "    elif(each[1] >= 80):\n",
    "         grade_dict['A'] += 1\n",
    "    elif(each[1] >= 70):\n",
    "         grade_dict['B'] += 1\n",
    "    elif(each[1] >= 60):\n",
    "         grade_dict['C'] += 1\n",
    "    elif(each[1] >= 50):\n",
    "         grade_dict['D'] += 1\n",
    "    elif(each[1] >= E_limit):\n",
    "         grade_dict['E'] += 1\n",
    "    else:\n",
    "        grade_dict['F'] += 1\n",
    "        \n",
    "result_table = list(map(list, grade_dict.items()))\n",
    "result_table.append(['Class Avg', class_avg])\n",
    "\n",
    "head = [\"Grade\", \"Student Count\"]\n",
    "print(tabulate(result_table, headers=head, tablefmt='fancy_grid', showindex=True))"
   ]
  },
  {
   "cell_type": "markdown",
   "id": "7b9b86b9",
   "metadata": {},
   "source": [
    "# Question 8\n",
    "###### Extend the application developed in (7) to support relative grading which uses the class average (mean) and standard deviation to compute the cutoffs for various grades as opposed to fixing them statically; you can refer the sample grader (excel sheet) attached to understand the formulas for fixing the cutoffs; the grader would involve, mean, standard deviation, max mark, passed students data mean, etc. Understand the excel grader thoroughly before you try mimicking such an application in your development platform."
   ]
  },
  {
   "cell_type": "code",
   "execution_count": 62,
   "id": "2c9014ab",
   "metadata": {},
   "outputs": [
    {
     "name": "stdout",
     "output_type": "stream",
     "text": [
      "╒════╤═════════════════╤═════════════════╕\n",
      "│    │ Grade           │   Student Count │\n",
      "╞════╪═════════════════╪═════════════════╡\n",
      "│  0 │ S               │           1     │\n",
      "├────┼─────────────────┼─────────────────┤\n",
      "│  1 │ A               │           3     │\n",
      "├────┼─────────────────┼─────────────────┤\n",
      "│  2 │ B               │           4     │\n",
      "├────┼─────────────────┼─────────────────┤\n",
      "│  3 │ C               │           6     │\n",
      "├────┼─────────────────┼─────────────────┤\n",
      "│  4 │ D               │           0     │\n",
      "├────┼─────────────────┼─────────────────┤\n",
      "│  5 │ E               │           3     │\n",
      "├────┼─────────────────┼─────────────────┤\n",
      "│  6 │ F               │           3     │\n",
      "├────┼─────────────────┼─────────────────┤\n",
      "│  7 │ Passing Minimum │          32.325 │\n",
      "╘════╧═════════════════╧═════════════════╛\n"
     ]
    }
   ],
   "source": [
    "student_list = [\n",
    "    [\"CSE20B001\",20],\n",
    "    [\"CSE20B002\",30],\n",
    "    [\"CSE20B003\",40],\n",
    "    [\"CSE20B004\",78],\n",
    "    [\"CSE20B005\",70],\n",
    "    [\"CSE20B006\",65],\n",
    "    [\"CSE20B007\",65],\n",
    "    [\"CSE20B008\",88],\n",
    "    [\"CSE20B009\",87],\n",
    "    [\"CSE20B010\",78],\n",
    "    [\"CSE20B011\",76],\n",
    "    [\"CSE20B012\",68],\n",
    "    [\"CSE20B013\",45],\n",
    "    [\"CSE20B014\",69],\n",
    "    [\"CSE20B015\",93],\n",
    "    [\"CSE20B016\",23],\n",
    "    [\"CSE20B017\",45],\n",
    "    [\"CSE20B018\",78],\n",
    "    [\"CSE20B019\",97],\n",
    "    [\"CSE20B020\",78]]\n",
    "\n",
    "\n",
    "class_avg = 0\n",
    "max_mark = 0\n",
    "for each in student_list:\n",
    "    if(each[1] > max_mark):\n",
    "        max_mark = each[1]\n",
    "        \n",
    "    class_avg += each[1]\n",
    "    \n",
    "class_avg = class_avg/20\n",
    "passing_minimum = class_avg*0.5\n",
    "\n",
    "passing_student_mean = 0\n",
    "passing_student_count = 0\n",
    "for each in student_list:\n",
    "    if(each[1] > passing_minimum):\n",
    "        passing_student_mean += each[1]\n",
    "        passing_student_count += 1\n",
    "        \n",
    "passing_student_mean = passing_student_mean / passing_student_count\n",
    "X = passing_student_mean - passing_minimum\n",
    "S_cutoff = max_mark - 0.1*(max_mark-passing_student_mean)\n",
    "\n",
    "Y = S_cutoff - passing_student_mean\n",
    "A_cutoff = passing_student_mean + Y*0.625\n",
    "B_cutoff = passing_student_mean + Y*0.25\n",
    "C_cutoff = passing_student_mean - X*0.25\n",
    "D_cutoff = passing_student_mean - X*0.625\n",
    "E_cutoff = passing_minimum\n",
    "\n",
    "\n",
    "grade_dict = {\n",
    "    'S': 0,\n",
    "    'A': 0,\n",
    "    'B': 0,\n",
    "    'C': 0,\n",
    "    'D': 0,\n",
    "    'E': 0,\n",
    "    'F': 0\n",
    "}\n",
    "\n",
    "for each in student_list:\n",
    "    if(each[1] >= S_cutoff):\n",
    "        grade_dict['S'] += 1\n",
    "    elif(each[1] >= A_cutoff):\n",
    "         grade_dict['A'] += 1\n",
    "    elif(each[1] >= B_cutoff):\n",
    "         grade_dict['B'] += 1\n",
    "    elif(each[1] >= C_cutoff):\n",
    "         grade_dict['C'] += 1\n",
    "    elif(each[1] >= D_cutoff):\n",
    "         grade_dict['D'] += 1\n",
    "    elif(each[1] >= E_cutoff):\n",
    "         grade_dict['E'] += 1\n",
    "    else:\n",
    "        grade_dict['F'] += 1\n",
    "        \n",
    "        \n",
    "result_table = list(map(list, grade_dict.items()))\n",
    "result_table.append(['Passing Minimum', passing_minimum])\n",
    "\n",
    "head = [\"Grade\", \"Student Count\"]\n",
    "print(tabulate(result_table, headers=head, tablefmt='fancy_grid', showindex=True))"
   ]
  },
  {
   "cell_type": "markdown",
   "id": "37d839a5",
   "metadata": {},
   "source": [
    "# Question 9\n",
    "###### Consider the following sample of weights for 45 individuals: 79 71 89 57 76 64 82 82 67 80 81 65 73 79 79 60 58 83 74 68 78 80 78 81 76 65 70 76 58 82 59 73 72 79 87 63 74 90 69 70 83 76 61 66 71 60 57 81 57 65 81 78 77 81 81 63 71 66 56 62 75 64 74 74 70 71 56 69 63 72 81 54 72 91 92. For the above data generates histograms and depict them using packages in your platform. Explore the different types of histograms available and test drive the types supported in your platform"
   ]
  },
  {
   "cell_type": "code",
   "execution_count": 65,
   "id": "a2b7e8ca",
   "metadata": {},
   "outputs": [
    {
     "data": {
      "image/png": "[encoded data removed]",
      "text/plain": [
       "<Figure size 720x576 with 4 Axes>"
      ]
     },
     "metadata": {
      "needs_background": "light"
     },
     "output_type": "display_data"
    }
   ],
   "source": [
    "data = (79, 71, 89, 57, 76, 64, 82, 82, 67, 80, 81, 65, 73, 79, 79, 60, 58, \n",
    "        83, 74, 68, 78, 80, 78, 81, 76, 65, 70, 76, 58, 82, 59, 73, 72, 79, \n",
    "        87, 63, 74, 90, 69, 70, 83, 76, 61, 66, 71, 60, 57, 81, 57, 65, 81, \n",
    "        78, 77, 81, 81, 63, 71, 66, 56, 62, 75, 64, 74, 74, 70, 71, 56, 69, \n",
    "        63, 72, 81, 54, 72, 91, 92)\n",
    "\n",
    "def plotGraph():\n",
    "    plt.hist(data)\n",
    "    plt.title(\"Normal Histogram\" , color='crimson', fontsize=12)\n",
    "    plt.grid(axis ='y',alpha=0.4)\n",
    "  \n",
    "    plt.tick_params(left = False, bottom=False)\n",
    "    for spine in plt.gca().spines.values():\n",
    "        spine.set_visible(False)\n",
    "        \n",
    "        \n",
    "def plotStepGraph():\n",
    "    plt.hist(data, histtype='step')\n",
    "    plt.title(\"Step Histogram\" , color='crimson', fontsize=12)\n",
    "    plt.grid(axis ='y',alpha=0.4)\n",
    "  \n",
    "    plt.tick_params(left = False, bottom=False)\n",
    "    for spine in plt.gca().spines.values():\n",
    "        spine.set_visible(False)\n",
    "        \n",
    "def plotBarHist():\n",
    "    plt.hist(data, histtype='bar')\n",
    "    plt.title(\"Step Histogram\" , color='crimson', fontsize=12)\n",
    "    plt.grid(axis ='y',alpha=0.4)\n",
    "  \n",
    "    plt.tick_params(left = False, bottom=False)\n",
    "    for spine in plt.gca().spines.values():\n",
    "        spine.set_visible(False)\n",
    "        \n",
    "    \n",
    "def plotColotGraph():\n",
    "    N, bins, patches = plt.hist(data)\n",
    "    plt.title(\"Color Histogram\" , color='crimson', fontsize=12)\n",
    "    plt.grid(axis ='y',alpha=0.4)\n",
    "  \n",
    "    plt.tick_params(left = False, bottom=False)\n",
    "    for spine in plt.gca().spines.values():\n",
    "        spine.set_visible(False)\n",
    "        \n",
    "    fracs = ((N**(1 / 5)) / N.max())\n",
    "    norm = colors.Normalize(fracs.min(), fracs.max())\n",
    "\n",
    "    for thisfrac, thispatch in zip(fracs, patches):\n",
    "        color = plt.cm.viridis(norm(thisfrac))\n",
    "        thispatch.set_facecolor(color)\n",
    "        \n",
    "    \n",
    "plt.figure(figsize=(10,8))\n",
    "plt.subplot(2, 2, 1)\n",
    "plotGraph()\n",
    "plt.subplot(2, 2, 2)\n",
    "plotColotGraph()\n",
    "plt.subplot(2, 2, 3)\n",
    "plotStepGraph()\n",
    "plt.subplot(2, 2, 4)\n",
    "plotBarHist()\n",
    "\n",
    "# plt.show()"
   ]
  },
  {
   "cell_type": "code",
   "execution_count": null,
   "id": "f35e9fc0",
   "metadata": {},
   "outputs": [],
   "source": []
  },
  {
   "cell_type": "code",
   "execution_count": null,
   "id": "a44514a2",
   "metadata": {},
   "outputs": [],
   "source": []
  }
 ],
 "metadata": {
  "kernelspec": {
   "display_name": "Python 3 (ipykernel)",
   "language": "python",
   "name": "python3"
  },
  "language_info": {
   "codemirror_mode": {
    "name": "ipython",
    "version": 3
   },
   "file_extension": ".py",
   "mimetype": "text/x-python",
   "name": "python",
   "nbconvert_exporter": "python",
   "pygments_lexer": "ipython3",
   "version": "3.10.1"
  }
 },
 "nbformat": 4,
 "nbformat_minor": 5
}
